{
 "cells": [
  {
   "cell_type": "code",
   "execution_count": 6,
   "metadata": {
    "vscode": {
     "languageId": "powershell"
    }
   },
   "outputs": [
    {
     "name": "stdout",
     "output_type": "stream",
     "text": [
      "Collecting spacy\n",
      "  Downloading spacy-3.7.4-cp312-cp312-win_amd64.whl.metadata (27 kB)\n",
      "Collecting spacy-legacy<3.1.0,>=3.0.11 (from spacy)\n",
      "  Downloading spacy_legacy-3.0.12-py2.py3-none-any.whl.metadata (2.8 kB)\n",
      "Collecting spacy-loggers<2.0.0,>=1.0.0 (from spacy)\n",
      "  Downloading spacy_loggers-1.0.5-py3-none-any.whl.metadata (23 kB)\n",
      "Collecting murmurhash<1.1.0,>=0.28.0 (from spacy)\n",
      "  Downloading murmurhash-1.0.10-cp312-cp312-win_amd64.whl.metadata (2.0 kB)\n",
      "Collecting cymem<2.1.0,>=2.0.2 (from spacy)\n",
      "  Downloading cymem-2.0.8-cp312-cp312-win_amd64.whl.metadata (8.6 kB)\n",
      "Collecting preshed<3.1.0,>=3.0.2 (from spacy)\n",
      "  Downloading preshed-3.0.9-cp312-cp312-win_amd64.whl.metadata (2.2 kB)\n",
      "Collecting thinc<8.3.0,>=8.2.2 (from spacy)\n",
      "  Downloading thinc-8.2.3-cp312-cp312-win_amd64.whl.metadata (15 kB)\n",
      "Collecting wasabi<1.2.0,>=0.9.1 (from spacy)\n",
      "  Downloading wasabi-1.1.2-py3-none-any.whl.metadata (28 kB)\n",
      "Collecting srsly<3.0.0,>=2.4.3 (from spacy)\n",
      "  Downloading srsly-2.4.8-cp312-cp312-win_amd64.whl.metadata (20 kB)\n",
      "Collecting catalogue<2.1.0,>=2.0.6 (from spacy)\n",
      "  Downloading catalogue-2.0.10-py3-none-any.whl.metadata (14 kB)\n",
      "Collecting weasel<0.4.0,>=0.1.0 (from spacy)\n",
      "  Downloading weasel-0.3.4-py3-none-any.whl.metadata (4.7 kB)\n",
      "Collecting typer<0.10.0,>=0.3.0 (from spacy)\n",
      "  Downloading typer-0.9.4-py3-none-any.whl.metadata (14 kB)\n",
      "Collecting smart-open<7.0.0,>=5.2.1 (from spacy)\n",
      "  Downloading smart_open-6.4.0-py3-none-any.whl.metadata (21 kB)\n",
      "Requirement already satisfied: tqdm<5.0.0,>=4.38.0 in d:\\documents\\pos_data science\\venv\\lib\\site-packages (from spacy) (4.66.4)\n",
      "Requirement already satisfied: requests<3.0.0,>=2.13.0 in d:\\documents\\pos_data science\\venv\\lib\\site-packages (from spacy) (2.32.0)\n",
      "Collecting pydantic!=1.8,!=1.8.1,<3.0.0,>=1.7.4 (from spacy)\n",
      "  Downloading pydantic-2.7.1-py3-none-any.whl.metadata (107 kB)\n",
      "     ---------------------------------------- 0.0/107.3 kB ? eta -:--:--\n",
      "     ------------------------------------ - 102.4/107.3 kB 3.0 MB/s eta 0:00:01\n",
      "     -------------------------------------- 107.3/107.3 kB 2.1 MB/s eta 0:00:00\n",
      "Collecting jinja2 (from spacy)\n",
      "  Downloading jinja2-3.1.4-py3-none-any.whl.metadata (2.6 kB)\n",
      "Requirement already satisfied: setuptools in d:\\documents\\pos_data science\\venv\\lib\\site-packages (from spacy) (70.0.0)\n",
      "Requirement already satisfied: packaging>=20.0 in d:\\documents\\pos_data science\\venv\\lib\\site-packages (from spacy) (23.2)\n",
      "Collecting langcodes<4.0.0,>=3.2.0 (from spacy)\n",
      "  Downloading langcodes-3.4.0-py3-none-any.whl.metadata (29 kB)\n",
      "Requirement already satisfied: numpy>=1.19.0 in d:\\documents\\pos_data science\\venv\\lib\\site-packages (from spacy) (1.26.4)\n",
      "Collecting language-data>=1.2 (from langcodes<4.0.0,>=3.2.0->spacy)\n",
      "  Downloading language_data-1.2.0-py3-none-any.whl.metadata (4.3 kB)\n",
      "Collecting annotated-types>=0.4.0 (from pydantic!=1.8,!=1.8.1,<3.0.0,>=1.7.4->spacy)\n",
      "  Downloading annotated_types-0.7.0-py3-none-any.whl.metadata (15 kB)\n",
      "Collecting pydantic-core==2.18.2 (from pydantic!=1.8,!=1.8.1,<3.0.0,>=1.7.4->spacy)\n",
      "  Downloading pydantic_core-2.18.2-cp312-none-win_amd64.whl.metadata (6.7 kB)\n",
      "Requirement already satisfied: typing-extensions>=4.6.1 in d:\\documents\\pos_data science\\venv\\lib\\site-packages (from pydantic!=1.8,!=1.8.1,<3.0.0,>=1.7.4->spacy) (4.11.0)\n",
      "Requirement already satisfied: charset-normalizer<4,>=2 in d:\\documents\\pos_data science\\venv\\lib\\site-packages (from requests<3.0.0,>=2.13.0->spacy) (3.3.2)\n",
      "Requirement already satisfied: idna<4,>=2.5 in d:\\documents\\pos_data science\\venv\\lib\\site-packages (from requests<3.0.0,>=2.13.0->spacy) (3.7)\n",
      "Requirement already satisfied: urllib3<3,>=1.21.1 in d:\\documents\\pos_data science\\venv\\lib\\site-packages (from requests<3.0.0,>=2.13.0->spacy) (2.2.1)\n",
      "Requirement already satisfied: certifi>=2017.4.17 in d:\\documents\\pos_data science\\venv\\lib\\site-packages (from requests<3.0.0,>=2.13.0->spacy) (2024.2.2)\n",
      "Collecting blis<0.8.0,>=0.7.8 (from thinc<8.3.0,>=8.2.2->spacy)\n",
      "  Downloading blis-0.7.11-cp312-cp312-win_amd64.whl.metadata (7.6 kB)\n",
      "Collecting confection<1.0.0,>=0.0.1 (from thinc<8.3.0,>=8.2.2->spacy)\n",
      "  Downloading confection-0.1.4-py3-none-any.whl.metadata (19 kB)\n",
      "Requirement already satisfied: colorama in d:\\documents\\pos_data science\\venv\\lib\\site-packages (from tqdm<5.0.0,>=4.38.0->spacy) (0.4.6)\n",
      "Requirement already satisfied: click<9.0.0,>=7.1.1 in d:\\documents\\pos_data science\\venv\\lib\\site-packages (from typer<0.10.0,>=0.3.0->spacy) (8.1.7)\n",
      "Collecting cloudpathlib<0.17.0,>=0.7.0 (from weasel<0.4.0,>=0.1.0->spacy)\n",
      "  Downloading cloudpathlib-0.16.0-py3-none-any.whl.metadata (14 kB)\n",
      "Requirement already satisfied: MarkupSafe>=2.0 in d:\\documents\\pos_data science\\venv\\lib\\site-packages (from jinja2->spacy) (2.1.5)\n",
      "Collecting marisa-trie>=0.7.7 (from language-data>=1.2->langcodes<4.0.0,>=3.2.0->spacy)\n",
      "  Downloading marisa_trie-1.1.1-cp312-cp312-win_amd64.whl.metadata (8.9 kB)\n",
      "Downloading spacy-3.7.4-cp312-cp312-win_amd64.whl (11.7 MB)\n",
      "   ---------------------------------------- 0.0/11.7 MB ? eta -:--:--\n",
      "    --------------------------------------- 0.2/11.7 MB 4.6 MB/s eta 0:00:03\n",
      "   - -------------------------------------- 0.5/11.7 MB 5.9 MB/s eta 0:00:02\n",
      "   --- ------------------------------------ 1.0/11.7 MB 8.1 MB/s eta 0:00:02\n",
      "   ----- ---------------------------------- 1.5/11.7 MB 8.8 MB/s eta 0:00:02\n",
      "   ------- -------------------------------- 2.1/11.7 MB 9.7 MB/s eta 0:00:01\n",
      "   --------- ------------------------------ 2.7/11.7 MB 10.3 MB/s eta 0:00:01\n",
      "   ----------- ---------------------------- 3.5/11.7 MB 11.0 MB/s eta 0:00:01\n",
      "   -------------- ------------------------- 4.1/11.7 MB 11.5 MB/s eta 0:00:01\n",
      "   ---------------- ----------------------- 4.8/11.7 MB 11.8 MB/s eta 0:00:01\n",
      "   ------------------- -------------------- 5.7/11.7 MB 12.5 MB/s eta 0:00:01\n",
      "   ---------------------- ----------------- 6.5/11.7 MB 13.0 MB/s eta 0:00:01\n",
      "   ------------------------- -------------- 7.4/11.7 MB 13.4 MB/s eta 0:00:01\n",
      "   ---------------------------- ----------- 8.2/11.7 MB 13.8 MB/s eta 0:00:01\n",
      "   ------------------------------- -------- 9.2/11.7 MB 14.3 MB/s eta 0:00:01\n",
      "   ----------------------------------- ---- 10.2/11.7 MB 14.9 MB/s eta 0:00:01\n",
      "   -------------------------------------- - 11.4/11.7 MB 17.2 MB/s eta 0:00:01\n",
      "   ---------------------------------------- 11.7/11.7 MB 17.2 MB/s eta 0:00:00\n",
      "Downloading catalogue-2.0.10-py3-none-any.whl (17 kB)\n",
      "Downloading cymem-2.0.8-cp312-cp312-win_amd64.whl (39 kB)\n",
      "Downloading langcodes-3.4.0-py3-none-any.whl (182 kB)\n",
      "   ---------------------------------------- 0.0/182.0 kB ? eta -:--:--\n",
      "   --------------------------------------- 182.0/182.0 kB 10.7 MB/s eta 0:00:00\n",
      "Downloading murmurhash-1.0.10-cp312-cp312-win_amd64.whl (25 kB)\n",
      "Downloading preshed-3.0.9-cp312-cp312-win_amd64.whl (122 kB)\n",
      "   ---------------------------------------- 0.0/122.4 kB ? eta -:--:--\n",
      "   ---------------------------------------- 122.4/122.4 kB 7.0 MB/s eta 0:00:00\n",
      "Downloading pydantic-2.7.1-py3-none-any.whl (409 kB)\n",
      "   ---------------------------------------- 0.0/409.3 kB ? eta -:--:--\n",
      "   --------------------------------------- 409.3/409.3 kB 24.9 MB/s eta 0:00:00\n",
      "Downloading pydantic_core-2.18.2-cp312-none-win_amd64.whl (1.9 MB)\n",
      "   ---------------------------------------- 0.0/1.9 MB ? eta -:--:--\n",
      "   ------------------------------ --------- 1.5/1.9 MB 31.4 MB/s eta 0:00:01\n",
      "   ---------------------------------------- 1.9/1.9 MB 24.4 MB/s eta 0:00:00\n",
      "Downloading smart_open-6.4.0-py3-none-any.whl (57 kB)\n",
      "   ---------------------------------------- 0.0/57.0 kB ? eta -:--:--\n",
      "   ---------------------------------------- 57.0/57.0 kB 2.9 MB/s eta 0:00:00\n",
      "Downloading spacy_legacy-3.0.12-py2.py3-none-any.whl (29 kB)\n",
      "Downloading spacy_loggers-1.0.5-py3-none-any.whl (22 kB)\n",
      "Downloading srsly-2.4.8-cp312-cp312-win_amd64.whl (478 kB)\n",
      "   ---------------------------------------- 0.0/478.8 kB ? eta -:--:--\n",
      "   --------------------------------------- 478.8/478.8 kB 15.1 MB/s eta 0:00:00\n",
      "Downloading thinc-8.2.3-cp312-cp312-win_amd64.whl (1.4 MB)\n",
      "   ---------------------------------------- 0.0/1.4 MB ? eta -:--:--\n",
      "   ---------------------------------------  1.4/1.4 MB 29.8 MB/s eta 0:00:01\n",
      "   ---------------------------------------- 1.4/1.4 MB 22.8 MB/s eta 0:00:00\n",
      "Downloading typer-0.9.4-py3-none-any.whl (45 kB)\n",
      "   ---------------------------------------- 0.0/46.0 kB ? eta -:--:--\n",
      "   ---------------------------------------- 46.0/46.0 kB ? eta 0:00:00\n",
      "Downloading wasabi-1.1.2-py3-none-any.whl (27 kB)\n",
      "Downloading weasel-0.3.4-py3-none-any.whl (50 kB)\n",
      "   ---------------------------------------- 0.0/50.1 kB ? eta -:--:--\n",
      "   ---------------------------------------- 50.1/50.1 kB 2.5 MB/s eta 0:00:00\n",
      "Downloading jinja2-3.1.4-py3-none-any.whl (133 kB)\n",
      "   ---------------------------------------- 0.0/133.3 kB ? eta -:--:--\n",
      "   ---------------------------------------- 133.3/133.3 kB 7.7 MB/s eta 0:00:00\n",
      "Downloading annotated_types-0.7.0-py3-none-any.whl (13 kB)\n",
      "Downloading blis-0.7.11-cp312-cp312-win_amd64.whl (6.6 MB)\n",
      "   ---------------------------------------- 0.0/6.6 MB ? eta -:--:--\n",
      "   ---- ----------------------------------- 0.8/6.6 MB 15.9 MB/s eta 0:00:01\n",
      "   ----------- ---------------------------- 2.0/6.6 MB 20.7 MB/s eta 0:00:01\n",
      "   ------------------- -------------------- 3.3/6.6 MB 23.0 MB/s eta 0:00:01\n",
      "   ----------------------- ---------------- 4.0/6.6 MB 23.0 MB/s eta 0:00:01\n",
      "   ----------------------- ---------------- 4.0/6.6 MB 23.0 MB/s eta 0:00:01\n",
      "   --------------------------------- ------ 5.6/6.6 MB 20.9 MB/s eta 0:00:01\n",
      "   ---------------------------------------  6.6/6.6 MB 21.2 MB/s eta 0:00:01\n",
      "   ---------------------------------------- 6.6/6.6 MB 20.2 MB/s eta 0:00:00\n",
      "Downloading cloudpathlib-0.16.0-py3-none-any.whl (45 kB)\n",
      "   ---------------------------------------- 0.0/45.0 kB ? eta -:--:--\n",
      "   ---------------------------------------- 45.0/45.0 kB ? eta 0:00:00\n",
      "Downloading confection-0.1.4-py3-none-any.whl (35 kB)\n",
      "Downloading language_data-1.2.0-py3-none-any.whl (5.4 MB)\n",
      "   ---------------------------------------- 0.0/5.4 MB ? eta -:--:--\n",
      "   ------- -------------------------------- 1.0/5.4 MB 33.4 MB/s eta 0:00:01\n",
      "   ---------------- ----------------------- 2.3/5.4 MB 28.9 MB/s eta 0:00:01\n",
      "   --------------------------- ------------ 3.7/5.4 MB 29.4 MB/s eta 0:00:01\n",
      "   --------------------------------- ------ 4.5/5.4 MB 26.0 MB/s eta 0:00:01\n",
      "   ---------------------------------------  5.4/5.4 MB 24.5 MB/s eta 0:00:01\n",
      "   ---------------------------------------- 5.4/5.4 MB 21.5 MB/s eta 0:00:00\n",
      "Downloading marisa_trie-1.1.1-cp312-cp312-win_amd64.whl (151 kB)\n",
      "   ---------------------------------------- 0.0/151.3 kB ? eta -:--:--\n",
      "   ---------------------------------------- 151.3/151.3 kB 8.8 MB/s eta 0:00:00\n",
      "Installing collected packages: cymem, wasabi, spacy-loggers, spacy-legacy, smart-open, pydantic-core, murmurhash, marisa-trie, jinja2, cloudpathlib, catalogue, blis, annotated-types, typer, srsly, pydantic, preshed, language-data, langcodes, confection, weasel, thinc, spacy\n",
      "  Attempting uninstall: smart-open\n",
      "    Found existing installation: smart-open 7.0.4\n",
      "    Uninstalling smart-open-7.0.4:\n",
      "      Successfully uninstalled smart-open-7.0.4\n",
      "Successfully installed annotated-types-0.7.0 blis-0.7.11 catalogue-2.0.10 cloudpathlib-0.16.0 confection-0.1.4 cymem-2.0.8 jinja2-3.1.4 langcodes-3.4.0 language-data-1.2.0 marisa-trie-1.1.1 murmurhash-1.0.10 preshed-3.0.9 pydantic-2.7.1 pydantic-core-2.18.2 smart-open-6.4.0 spacy-3.7.4 spacy-legacy-3.0.12 spacy-loggers-1.0.5 srsly-2.4.8 thinc-8.2.3 typer-0.9.4 wasabi-1.1.2 weasel-0.3.4\n",
      "Note: you may need to restart the kernel to use updated packages.\n"
     ]
    }
   ],
   "source": [
    "pip install -U spacy"
   ]
  },
  {
   "cell_type": "code",
   "execution_count": 1,
   "metadata": {},
   "outputs": [],
   "source": [
    "import spacy"
   ]
  },
  {
   "cell_type": "code",
   "execution_count": 16,
   "metadata": {},
   "outputs": [],
   "source": [
    "# preparação\n",
    "nlp = spacy.load(\"pt_core_news_sm\")\n",
    "texto = 'O Brasil foi descoberto por Pedro Álvares Cabral e é um país da América do Sul'\n",
    "doc = nlp(texto)"
   ]
  },
  {
   "cell_type": "code",
   "execution_count": 17,
   "metadata": {},
   "outputs": [
    {
     "name": "stdout",
     "output_type": "stream",
     "text": [
      "(Brasil, Pedro Álvares Cabral, América do Sul)\n"
     ]
    }
   ],
   "source": [
    "# mostrar as entidades nomeadas\n",
    "print(doc.ents)"
   ]
  },
  {
   "cell_type": "code",
   "execution_count": 18,
   "metadata": {},
   "outputs": [
    {
     "name": "stdout",
     "output_type": "stream",
     "text": [
      "O 0 X DET\n",
      "Brasil 2 Xxxxx PROPN\n",
      "foi 9 xxx AUX\n",
      "descoberto 13 xxxx VERB\n",
      "por 24 xxx ADP\n",
      "Pedro 28 Xxxxx PROPN\n",
      "Álvares 34 Xxxxx PROPN\n",
      "Cabral 42 Xxxxx PROPN\n",
      "e 49 x CCONJ\n",
      "é 51 x AUX\n",
      "um 53 xx DET\n",
      "país 56 xxxx NOUN\n",
      "da 61 xx ADP\n",
      "América 64 Xxxxx PROPN\n",
      "do 72 xx ADP\n",
      "Sul 75 Xxx PROPN\n"
     ]
    }
   ],
   "source": [
    "# tokens\n",
    "for token in doc:\n",
    "    print(token, token.idx, token.shape_, token.tag_)"
   ]
  },
  {
   "cell_type": "code",
   "execution_count": 19,
   "metadata": {},
   "outputs": [
    {
     "name": "stdout",
     "output_type": "stream",
     "text": [
      "Brasil  |  LOC\n",
      "Pedro Álvares Cabral  |  PER\n",
      "América do Sul  |  LOC\n"
     ]
    }
   ],
   "source": [
    "# mostrando informação sobre o tipo de entidade\n",
    "for entidade in doc.ents:\n",
    "    print(entidade.text,' | ', entidade.label_)"
   ]
  },
  {
   "cell_type": "code",
   "execution_count": 20,
   "metadata": {},
   "outputs": [
    {
     "name": "stdout",
     "output_type": "stream",
     "text": [
      "Named person or family.\n"
     ]
    }
   ],
   "source": [
    "# explica o significado\n",
    "resultado = spacy.explain('PER')\n",
    "print(resultado)"
   ]
  },
  {
   "cell_type": "code",
   "execution_count": 21,
   "metadata": {},
   "outputs": [],
   "source": [
    "# Extraindo nomes de marcas com NER\n",
    "artigo = \"\"\" O Brasil possui grandes empresas nas áreas de tecnologia. Por exemplo, na área de telefonia móvel o grande destaque vai \n",
    "para empresas como Vivo e Claro. Outra grande empresa de tecnologia é a IBM que, juntamente com a Amazon, se destacam na entrega de \n",
    "computação em nuvem. Outra empresa que merece destaque é a Samsung, a qual desenvolve smartphones e dispositivos tecnológicos. \n",
    "O estado de São Paulo é o que lidera com o maior número de empresas e indústrias de tecnologia, seguido pelo Rio de Janeiro. \n",
    "Uma característica importante é o crescimento de startups na região Sul, principalmente na cidade de Florianópolis em Santa Catarina. \n",
    "Em São Paulo, em 2011, o Facebook (empresa criada por Mark Zuckerberg) inaugurou um escritório no bairro do Itaim Bibi.\n",
    "\"\"\"\n",
    "doc = nlp(artigo)"
   ]
  },
  {
   "cell_type": "code",
   "execution_count": 22,
   "metadata": {},
   "outputs": [
    {
     "name": "stdout",
     "output_type": "stream",
     "text": [
      "Brasil  |  LOC\n",
      "Vivo  |  ORG\n",
      "Claro  |  ORG\n",
      "IBM  |  ORG\n",
      "Amazon  |  ORG\n",
      "Samsung  |  ORG\n",
      "estado de São Paulo  |  LOC\n",
      "Rio de Janeiro  |  LOC\n",
      "região Sul  |  LOC\n",
      "Florianópolis  |  LOC\n",
      "Santa Catarina  |  LOC\n",
      "São Paulo  |  LOC\n",
      "Facebook  |  MISC\n",
      "Mark Zuckerberg  |  PER\n",
      "Itaim Bibi  |  LOC\n"
     ]
    }
   ],
   "source": [
    "# mostrando informação sobre o tipo de entidade\n",
    "for entidade in doc.ents:\n",
    "    print(entidade.text,' | ', entidade.label_)"
   ]
  },
  {
   "cell_type": "code",
   "execution_count": 23,
   "metadata": {},
   "outputs": [
    {
     "name": "stdout",
     "output_type": "stream",
     "text": [
      "['Vivo', 'Claro', 'IBM', 'Amazon', 'Samsung']\n"
     ]
    }
   ],
   "source": [
    "# LISTA DAS ORGANIZAÇÕES\n",
    "lista_organizacoes=[]\n",
    "\n",
    "for entidade in doc.ents:\n",
    "  if entidade.label_=='ORG':\n",
    "    lista_organizacoes.append(entidade.text)\n",
    "\n",
    "print(lista_organizacoes)"
   ]
  }
 ],
 "metadata": {
  "kernelspec": {
   "display_name": "venv",
   "language": "python",
   "name": "python3"
  },
  "language_info": {
   "codemirror_mode": {
    "name": "ipython",
    "version": 3
   },
   "file_extension": ".py",
   "mimetype": "text/x-python",
   "name": "python",
   "nbconvert_exporter": "python",
   "pygments_lexer": "ipython3",
   "version": "3.12.3"
  }
 },
 "nbformat": 4,
 "nbformat_minor": 2
}
