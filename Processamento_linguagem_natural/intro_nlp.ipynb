{
 "cells": [
  {
   "cell_type": "code",
   "execution_count": 1,
   "metadata": {
    "vscode": {
     "languageId": "powershell"
    }
   },
   "outputs": [
    {
     "name": "stdout",
     "output_type": "stream",
     "text": [
      "Collecting nltk\n",
      "  Downloading nltk-3.8.1-py3-none-any.whl.metadata (2.8 kB)\n",
      "Collecting click (from nltk)\n",
      "  Using cached click-8.1.7-py3-none-any.whl.metadata (3.0 kB)\n",
      "Requirement already satisfied: joblib in d:\\documents\\pos_data science\\venv\\lib\\site-packages (from nltk) (1.3.2)\n",
      "Collecting regex>=2021.8.3 (from nltk)\n",
      "  Downloading regex-2024.5.15-cp312-cp312-win_amd64.whl.metadata (41 kB)\n",
      "     ---------------------------------------- 0.0/42.0 kB ? eta -:--:--\n",
      "     -------------------------------------  41.0/42.0 kB 653.6 kB/s eta 0:00:01\n",
      "     -------------------------------------- 42.0/42.0 kB 675.2 kB/s eta 0:00:00\n",
      "Collecting tqdm (from nltk)\n",
      "  Downloading tqdm-4.66.4-py3-none-any.whl.metadata (57 kB)\n",
      "     ---------------------------------------- 0.0/57.6 kB ? eta -:--:--\n",
      "     ---------------------------------------- 57.6/57.6 kB 3.2 MB/s eta 0:00:00\n",
      "Requirement already satisfied: colorama in d:\\documents\\pos_data science\\venv\\lib\\site-packages (from click->nltk) (0.4.6)\n",
      "Downloading nltk-3.8.1-py3-none-any.whl (1.5 MB)\n",
      "   ---------------------------------------- 0.0/1.5 MB ? eta -:--:--\n",
      "   ---------- ----------------------------- 0.4/1.5 MB 12.5 MB/s eta 0:00:01\n",
      "   ---------------------------------------  1.5/1.5 MB 15.9 MB/s eta 0:00:01\n",
      "   ---------------------------------------- 1.5/1.5 MB 16.0 MB/s eta 0:00:00\n",
      "Downloading regex-2024.5.15-cp312-cp312-win_amd64.whl (268 kB)\n",
      "   ---------------------------------------- 0.0/268.5 kB ? eta -:--:--\n",
      "   --------------------------------------- 268.5/268.5 kB 16.1 MB/s eta 0:00:00\n",
      "Using cached click-8.1.7-py3-none-any.whl (97 kB)\n",
      "Downloading tqdm-4.66.4-py3-none-any.whl (78 kB)\n",
      "   ---------------------------------------- 0.0/78.3 kB ? eta -:--:--\n",
      "   ---------------------------------------- 78.3/78.3 kB 4.3 MB/s eta 0:00:00\n",
      "Installing collected packages: tqdm, regex, click, nltk\n",
      "Successfully installed click-8.1.7 nltk-3.8.1 regex-2024.5.15 tqdm-4.66.4\n",
      "Note: you may need to restart the kernel to use updated packages.\n"
     ]
    }
   ],
   "source": [
    "pip install nltk"
   ]
  },
  {
   "cell_type": "code",
   "execution_count": 37,
   "metadata": {},
   "outputs": [
    {
     "name": "stderr",
     "output_type": "stream",
     "text": [
      "[nltk_data] Downloading package punkt to\n",
      "[nltk_data]     C:\\Users\\DitoVermelho\\AppData\\Roaming\\nltk_data...\n",
      "[nltk_data]   Package punkt is already up-to-date!\n"
     ]
    },
    {
     "data": {
      "text/plain": [
       "True"
      ]
     },
     "execution_count": 37,
     "metadata": {},
     "output_type": "execute_result"
    }
   ],
   "source": [
    "import nltk\n",
    "from nltk.tokenize import sent_tokenize, word_tokenize\n",
    "from nltk.probability import FreqDist\n",
    "import matplotlib.pyplot as plt\n",
    "nltk.download('punkt')"
   ]
  },
  {
   "cell_type": "code",
   "execution_count": 20,
   "metadata": {},
   "outputs": [],
   "source": [
    "texto_arquivo = open('../Processamento_linguagem_natural/data/turing.txt')"
   ]
  },
  {
   "cell_type": "code",
   "execution_count": 21,
   "metadata": {},
   "outputs": [],
   "source": [
    "conteudo_texto = texto_arquivo.read()"
   ]
  },
  {
   "cell_type": "code",
   "execution_count": 22,
   "metadata": {},
   "outputs": [
    {
     "name": "stdout",
     "output_type": "stream",
     "text": [
      "Alan Turing foi um matemÃ¡tico e criptÃ³grafo inglÃªs considerado atualmente como o pai da computaÃ§Ã£o, uma vez que, por meio de suas ideias, foi possÃ­vel desenvolver o que chamamos hoje de computador.\n",
      "\n",
      "Considerado uma das mentes mais brilhantes do sÃ©culo passado, Alan Turing desenvolveu a base da computaÃ§Ã£o moderna e ajudou os aliados a vencerem a 2Âª Guerra Mundial desvendando o Enigma da inteligÃªncia nazista.25 de fev. de 2022\n",
      "\n",
      "Turing faleceu de envenenamento por cianeto em 1954, algumas semanas antes de seu aniversÃ¡rio de 42 anos. Em 2009, o governo inglÃªs fez um pedido de desculpas pÃºblico pela forma com que o matemÃ¡tico foi tratado depois da guerra.\n"
     ]
    }
   ],
   "source": [
    "print(conteudo_texto)"
   ]
  },
  {
   "cell_type": "code",
   "execution_count": 28,
   "metadata": {},
   "outputs": [],
   "source": [
    "sentencas = sent_tokenize(conteudo_texto)"
   ]
  },
  {
   "cell_type": "code",
   "execution_count": 32,
   "metadata": {},
   "outputs": [
    {
     "name": "stdout",
     "output_type": "stream",
     "text": [
      "4\n"
     ]
    }
   ],
   "source": [
    "print(len(sentencas))"
   ]
  },
  {
   "cell_type": "code",
   "execution_count": 29,
   "metadata": {},
   "outputs": [
    {
     "name": "stdout",
     "output_type": "stream",
     "text": [
      "['Alan Turing foi um matemÃ¡tico e criptÃ³grafo inglÃªs considerado atualmente como o pai da computaÃ§Ã£o, uma vez que, por meio de suas ideias, foi possÃ\\xadvel desenvolver o que chamamos hoje de computador.', 'Considerado uma das mentes mais brilhantes do sÃ©culo passado, Alan Turing desenvolveu a base da computaÃ§Ã£o moderna e ajudou os aliados a vencerem a 2Âª Guerra Mundial desvendando o Enigma da inteligÃªncia nazista.25 de fev.', 'de 2022\\n\\nTuring faleceu de envenenamento por cianeto em 1954, algumas semanas antes de seu aniversÃ¡rio de 42 anos.', 'Em 2009, o governo inglÃªs fez um pedido de desculpas pÃºblico pela forma com que o matemÃ¡tico foi tratado depois da guerra.']\n"
     ]
    }
   ],
   "source": [
    "print(sentencas)"
   ]
  },
  {
   "cell_type": "code",
   "execution_count": 30,
   "metadata": {},
   "outputs": [],
   "source": [
    "palavras = word_tokenize(conteudo_texto)"
   ]
  },
  {
   "cell_type": "code",
   "execution_count": 31,
   "metadata": {},
   "outputs": [
    {
     "name": "stdout",
     "output_type": "stream",
     "text": [
      "118\n"
     ]
    }
   ],
   "source": [
    "print(len(palavras))"
   ]
  },
  {
   "cell_type": "code",
   "execution_count": 33,
   "metadata": {},
   "outputs": [
    {
     "name": "stdout",
     "output_type": "stream",
     "text": [
      "['Alan', 'Turing', 'foi', 'um', 'matemÃ¡tico', 'e', 'criptÃ³grafo', 'inglÃªs', 'considerado', 'atualmente', 'como', 'o', 'pai', 'da', 'computaÃ§Ã£o', ',', 'uma', 'vez', 'que', ',', 'por', 'meio', 'de', 'suas', 'ideias', ',', 'foi', 'possÃ\\xadvel', 'desenvolver', 'o', 'que', 'chamamos', 'hoje', 'de', 'computador', '.', 'Considerado', 'uma', 'das', 'mentes', 'mais', 'brilhantes', 'do', 'sÃ©culo', 'passado', ',', 'Alan', 'Turing', 'desenvolveu', 'a', 'base', 'da', 'computaÃ§Ã£o', 'moderna', 'e', 'ajudou', 'os', 'aliados', 'a', 'vencerem', 'a', '2Âª', 'Guerra', 'Mundial', 'desvendando', 'o', 'Enigma', 'da', 'inteligÃªncia', 'nazista.25', 'de', 'fev', '.', 'de', '2022', 'Turing', 'faleceu', 'de', 'envenenamento', 'por', 'cianeto', 'em', '1954', ',', 'algumas', 'semanas', 'antes', 'de', 'seu', 'aniversÃ¡rio', 'de', '42', 'anos', '.', 'Em', '2009', ',', 'o', 'governo', 'inglÃªs', 'fez', 'um', 'pedido', 'de', 'desculpas', 'pÃºblico', 'pela', 'forma', 'com', 'que', 'o', 'matemÃ¡tico', 'foi', 'tratado', 'depois', 'da', 'guerra', '.']\n"
     ]
    }
   ],
   "source": [
    "print(palavras)"
   ]
  },
  {
   "cell_type": "code",
   "execution_count": 35,
   "metadata": {},
   "outputs": [],
   "source": [
    "freq = FreqDist(palavras)"
   ]
  },
  {
   "cell_type": "code",
   "execution_count": 36,
   "metadata": {},
   "outputs": [
    {
     "data": {
      "text/plain": [
       "[('de', 8), (',', 6), ('o', 5), ('da', 4), ('.', 4)]"
      ]
     },
     "execution_count": 36,
     "metadata": {},
     "output_type": "execute_result"
    }
   ],
   "source": [
    "freq.most_common(5)"
   ]
  },
  {
   "cell_type": "code",
   "execution_count": 39,
   "metadata": {},
   "outputs": [
    {
     "data": {
      "image/png": "[encoded data removed]",
      "text/plain": [
       "<Figure size 640x480 with 1 Axes>"
      ]
     },
     "metadata": {},
     "output_type": "display_data"
    },
    {
     "data": {
      "text/plain": [
       "<Axes: xlabel='Samples', ylabel='Counts'>"
      ]
     },
     "execution_count": 39,
     "metadata": {},
     "output_type": "execute_result"
    }
   ],
   "source": [
    "freq.plot(8)"
   ]
  }
 ],
 "metadata": {
  "language_info": {
   "name": "python"
  }
 },
 "nbformat": 4,
 "nbformat_minor": 2
}
