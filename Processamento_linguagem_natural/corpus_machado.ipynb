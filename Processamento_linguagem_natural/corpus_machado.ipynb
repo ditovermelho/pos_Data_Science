{
 "cells": [
  {
   "cell_type": "code",
   "execution_count": 1,
   "metadata": {},
   "outputs": [
    {
     "name": "stderr",
     "output_type": "stream",
     "text": [
      "[nltk_data] Downloading package machado to\n",
      "[nltk_data]     C:\\Users\\DitoVermelho\\AppData\\Roaming\\nltk_data...\n",
      "[nltk_data]   Package machado is already up-to-date!\n",
      "[nltk_data] Downloading package stopwords to\n",
      "[nltk_data]     C:\\Users\\DitoVermelho\\AppData\\Roaming\\nltk_data...\n",
      "[nltk_data]   Package stopwords is already up-to-date!\n"
     ]
    },
    {
     "data": {
      "text/plain": [
       "['contos/macn001.txt',\n",
       " 'contos/macn002.txt',\n",
       " 'contos/macn003.txt',\n",
       " 'contos/macn004.txt',\n",
       " 'contos/macn005.txt',\n",
       " 'contos/macn006.txt',\n",
       " 'contos/macn007.txt',\n",
       " 'contos/macn008.txt',\n",
       " 'contos/macn009.txt',\n",
       " 'contos/macn010.txt',\n",
       " 'contos/macn011.txt',\n",
       " 'contos/macn012.txt',\n",
       " 'contos/macn013.txt',\n",
       " 'contos/macn014.txt',\n",
       " 'contos/macn015.txt',\n",
       " 'contos/macn016.txt',\n",
       " 'contos/macn017.txt',\n",
       " 'contos/macn018.txt',\n",
       " 'contos/macn019.txt',\n",
       " 'contos/macn020.txt',\n",
       " 'contos/macn021.txt',\n",
       " 'contos/macn022.txt',\n",
       " 'contos/macn023.txt',\n",
       " 'contos/macn024.txt',\n",
       " 'contos/macn025.txt',\n",
       " 'contos/macn026.txt',\n",
       " 'contos/macn027.txt',\n",
       " 'contos/macn028.txt',\n",
       " 'contos/macn029.txt',\n",
       " 'contos/macn030.txt',\n",
       " 'contos/macn031.txt',\n",
       " 'contos/macn032.txt',\n",
       " 'contos/macn033.txt',\n",
       " 'contos/macn034.txt',\n",
       " 'contos/macn035.txt',\n",
       " 'contos/macn036.txt',\n",
       " 'contos/macn037.txt',\n",
       " 'contos/macn038.txt',\n",
       " 'contos/macn039.txt',\n",
       " 'contos/macn040.txt',\n",
       " 'contos/macn041.txt',\n",
       " 'contos/macn042.txt',\n",
       " 'contos/macn043.txt',\n",
       " 'contos/macn044.txt',\n",
       " 'contos/macn045.txt',\n",
       " 'contos/macn046.txt',\n",
       " 'contos/macn047.txt',\n",
       " 'contos/macn048.txt',\n",
       " 'contos/macn049.txt',\n",
       " 'contos/macn050.txt',\n",
       " 'contos/macn051.txt',\n",
       " 'contos/macn052.txt',\n",
       " 'contos/macn053.txt',\n",
       " 'contos/macn054.txt',\n",
       " 'contos/macn055.txt',\n",
       " 'contos/macn056.txt',\n",
       " 'contos/macn057.txt',\n",
       " 'contos/macn058.txt',\n",
       " 'contos/macn059.txt',\n",
       " 'contos/macn060.txt',\n",
       " 'contos/macn061.txt',\n",
       " 'contos/macn062.txt',\n",
       " 'contos/macn063.txt',\n",
       " 'contos/macn064.txt',\n",
       " 'contos/macn065.txt',\n",
       " 'contos/macn066.txt',\n",
       " 'contos/macn067.txt',\n",
       " 'contos/macn068.txt',\n",
       " 'contos/macn069.txt',\n",
       " 'contos/macn070.txt',\n",
       " 'contos/macn071.txt',\n",
       " 'contos/macn072.txt',\n",
       " 'contos/macn073.txt',\n",
       " 'contos/macn074.txt',\n",
       " 'contos/macn075.txt',\n",
       " 'contos/macn076.txt',\n",
       " 'contos/macn077.txt',\n",
       " 'contos/macn078.txt',\n",
       " 'contos/macn079.txt',\n",
       " 'contos/macn080.txt',\n",
       " 'contos/macn081.txt',\n",
       " 'contos/macn082.txt',\n",
       " 'contos/macn083.txt',\n",
       " 'contos/macn084.txt',\n",
       " 'contos/macn085.txt',\n",
       " 'contos/macn086.txt',\n",
       " 'contos/macn087.txt',\n",
       " 'contos/macn088.txt',\n",
       " 'contos/macn089.txt',\n",
       " 'contos/macn090.txt',\n",
       " 'contos/macn091.txt',\n",
       " 'contos/macn092.txt',\n",
       " 'contos/macn093.txt',\n",
       " 'contos/macn094.txt',\n",
       " 'contos/macn095.txt',\n",
       " 'contos/macn096.txt',\n",
       " 'contos/macn097.txt',\n",
       " 'contos/macn098.txt',\n",
       " 'contos/macn099.txt',\n",
       " 'contos/macn100.txt',\n",
       " 'contos/macn101.txt',\n",
       " 'contos/macn102.txt',\n",
       " 'contos/macn103.txt',\n",
       " 'contos/macn104.txt',\n",
       " 'contos/macn105.txt',\n",
       " 'contos/macn106.txt',\n",
       " 'contos/macn107.txt',\n",
       " 'contos/macn108.txt',\n",
       " 'contos/macn109.txt',\n",
       " 'contos/macn110.txt',\n",
       " 'contos/macn111.txt',\n",
       " 'contos/macn112.txt',\n",
       " 'contos/macn113.txt',\n",
       " 'contos/macn114.txt',\n",
       " 'contos/macn115.txt',\n",
       " 'contos/macn116.txt',\n",
       " 'contos/macn117.txt',\n",
       " 'contos/macn118.txt',\n",
       " 'contos/macn119.txt',\n",
       " 'contos/macn120.txt',\n",
       " 'contos/macn121.txt',\n",
       " 'contos/macn122.txt',\n",
       " 'contos/macn123.txt',\n",
       " 'contos/macn124.txt',\n",
       " 'contos/macn125.txt',\n",
       " 'contos/macn126.txt',\n",
       " 'contos/macn127.txt',\n",
       " 'contos/macn128.txt',\n",
       " 'contos/macn129.txt',\n",
       " 'contos/macn130.txt',\n",
       " 'contos/macn131.txt',\n",
       " 'contos/macn132.txt',\n",
       " 'contos/macn133.txt',\n",
       " 'contos/macn134.txt',\n",
       " 'contos/macn135.txt',\n",
       " 'contos/macn136.txt',\n",
       " 'contos/macn137.txt',\n",
       " 'critica/mact01.txt',\n",
       " 'critica/mact02.txt',\n",
       " 'critica/mact03.txt',\n",
       " 'critica/mact04.txt',\n",
       " 'critica/mact05.txt',\n",
       " 'critica/mact06.txt',\n",
       " 'critica/mact07.txt',\n",
       " 'critica/mact08.txt',\n",
       " 'critica/mact09.txt',\n",
       " 'critica/mact10.txt',\n",
       " 'critica/mact11.txt',\n",
       " 'critica/mact12.txt',\n",
       " 'critica/mact13.txt',\n",
       " 'critica/mact14.txt',\n",
       " 'critica/mact15.txt',\n",
       " 'critica/mact16.txt',\n",
       " 'critica/mact17.txt',\n",
       " 'critica/mact18.txt',\n",
       " 'critica/mact19.txt',\n",
       " 'critica/mact20.txt',\n",
       " 'critica/mact21.txt',\n",
       " 'critica/mact22.txt',\n",
       " 'critica/mact23.txt',\n",
       " 'critica/mact24.txt',\n",
       " 'critica/mact25.txt',\n",
       " 'critica/mact26.txt',\n",
       " 'critica/mact27.txt',\n",
       " 'critica/mact28.txt',\n",
       " 'critica/mact29.txt',\n",
       " 'critica/mact30.txt',\n",
       " 'critica/mact31.txt',\n",
       " 'critica/mact32.txt',\n",
       " 'critica/mact33.txt',\n",
       " 'critica/mact34.txt',\n",
       " 'critica/mact35.txt',\n",
       " 'critica/mact36.txt',\n",
       " 'critica/mact37.txt',\n",
       " 'critica/mact38.txt',\n",
       " 'critica/mact39.txt',\n",
       " 'critica/mact40.txt',\n",
       " 'critica/mact41.txt',\n",
       " 'critica/mact42.txt',\n",
       " 'critica/mact43.txt',\n",
       " 'critica/mact44.txt',\n",
       " 'critica/mact45.txt',\n",
       " 'cronica/macr01.txt',\n",
       " 'cronica/macr02.txt',\n",
       " 'cronica/macr03.txt',\n",
       " 'cronica/macr04.txt',\n",
       " 'cronica/macr05.txt',\n",
       " 'cronica/macr06.txt',\n",
       " 'cronica/macr07.txt',\n",
       " 'cronica/macr08.txt',\n",
       " 'cronica/macr09.txt',\n",
       " 'cronica/macr10.txt',\n",
       " 'cronica/macr11.txt',\n",
       " 'cronica/macr12.txt',\n",
       " 'cronica/macr13.txt',\n",
       " 'cronica/macr14.txt',\n",
       " 'cronica/macr15.txt',\n",
       " 'cronica/macr16.txt',\n",
       " 'cronica/macr17.txt',\n",
       " 'cronica/macr18.txt',\n",
       " 'cronica/macr19.txt',\n",
       " 'cronica/macr20.txt',\n",
       " 'cronica/macr21.txt',\n",
       " 'cronica/macr22.txt',\n",
       " 'cronica/macr23.txt',\n",
       " 'cronica/macr24.txt',\n",
       " 'miscelanea/mams01.txt',\n",
       " 'miscelanea/mams02.txt',\n",
       " 'miscelanea/mams03.txt',\n",
       " 'miscelanea/mams04.txt',\n",
       " 'miscelanea/mams05.txt',\n",
       " 'miscelanea/mams06.txt',\n",
       " 'miscelanea/mams07.txt',\n",
       " 'miscelanea/mams08.txt',\n",
       " 'miscelanea/mams09.txt',\n",
       " 'miscelanea/mams10.txt',\n",
       " 'poesia/maps01.txt',\n",
       " 'poesia/maps02.txt',\n",
       " 'poesia/maps03.txt',\n",
       " 'poesia/maps04.txt',\n",
       " 'poesia/maps05.txt',\n",
       " 'poesia/maps06.txt',\n",
       " 'poesia/maps07.txt',\n",
       " 'romance/marm01.txt',\n",
       " 'romance/marm02.txt',\n",
       " 'romance/marm03.txt',\n",
       " 'romance/marm04.txt',\n",
       " 'romance/marm05.txt',\n",
       " 'romance/marm06.txt',\n",
       " 'romance/marm07.txt',\n",
       " 'romance/marm08.txt',\n",
       " 'romance/marm09.txt',\n",
       " 'romance/marm10.txt',\n",
       " 'teatro/matt01.txt',\n",
       " 'teatro/matt02.txt',\n",
       " 'teatro/matt03.txt',\n",
       " 'teatro/matt04.txt',\n",
       " 'teatro/matt05.txt',\n",
       " 'teatro/matt06.txt',\n",
       " 'teatro/matt07.txt',\n",
       " 'teatro/matt08.txt',\n",
       " 'teatro/matt09.txt',\n",
       " 'teatro/matt10.txt',\n",
       " 'traducao/matr01.txt',\n",
       " 'traducao/matr02.txt',\n",
       " 'traducao/matr03.txt']"
      ]
     },
     "execution_count": 1,
     "metadata": {},
     "output_type": "execute_result"
    }
   ],
   "source": [
    "import nltk\n",
    "nltk.download('machado')\n",
    "nltk.download('stopwords')\n",
    "from nltk.corpus import machado\n",
    "machado.fileids()"
   ]
  },
  {
   "cell_type": "code",
   "execution_count": 2,
   "metadata": {},
   "outputs": [
    {
     "name": "stdout",
     "output_type": "stream",
     "text": [
      "Creio que foi assim que me tacharam este e alguns\n",
      "outros dos livros que vim compondo pelo tempo fora no silêncio da minha vida.\n",
      "Vozes houve, generosas e fortes, que então me defenderam; já lhes agradeci em\n",
      "particular;\n"
     ]
    }
   ],
   "source": [
    "livro = 'romance/marm07.txt'\n",
    "texto = machado.raw(livro)\n",
    "print(texto[1051:1268])"
   ]
  },
  {
   "cell_type": "code",
   "execution_count": 3,
   "metadata": {},
   "outputs": [
    {
     "name": "stdout",
     "output_type": "stream",
     "text": [
      "Token 1:  ['ROMANCE', ',', 'Quincas', 'Borba', ',', '1891', 'Quincas', 'Borba', 'Texto', '-']\n"
     ]
    }
   ],
   "source": [
    "texto_tokens1 = machado.words(livro)\n",
    "print('Token 1: ', texto_tokens1[0:10])"
   ]
  },
  {
   "cell_type": "code",
   "execution_count": 4,
   "metadata": {},
   "outputs": [
    {
     "name": "stdout",
     "output_type": "stream",
     "text": [
      "Token 2:  ['ROMANCE', ',', 'Quincas', 'Borba,1891', 'Quincas', 'Borba', 'Texto-fonte', ':', 'Obra', 'Completa']\n"
     ]
    }
   ],
   "source": [
    "from nltk.tokenize import word_tokenize\n",
    "texto_tokens2 = word_tokenize(texto)\n",
    "print('Token 2: ', texto_tokens2[0:10])"
   ]
  },
  {
   "cell_type": "code",
   "execution_count": 5,
   "metadata": {},
   "outputs": [
    {
     "name": "stdout",
     "output_type": "stream",
     "text": [
      "97797\n",
      "93688\n"
     ]
    }
   ],
   "source": [
    "print(len(texto_tokens1))\n",
    "print(len(texto_tokens2))"
   ]
  },
  {
   "cell_type": "code",
   "execution_count": 6,
   "metadata": {},
   "outputs": [
    {
     "name": "stdout",
     "output_type": "stream",
     "text": [
      "['ROMANCE', ',', 'Quincas', 'Borba', ',', '1891', 'Quincas', 'Borba', 'Texto', '-']\n",
      "97797\n"
     ]
    }
   ],
   "source": [
    "from nltk.text import Text\n",
    "quincas = Text(machado.words(livro))\n",
    "print(quincas[0:10])\n",
    "print(len(quincas))"
   ]
  },
  {
   "cell_type": "code",
   "execution_count": 7,
   "metadata": {},
   "outputs": [
    {
     "name": "stdout",
     "output_type": "stream",
     "text": [
      "Displaying 19 of 19 matches:\n",
      "co da guerra . Supõe tu um campo de batatas e duas tribos famintas . As batatas\n",
      "batatas e duas tribos famintas . As batatas apenas chegam para alimentar uma da\n",
      "nha e ir à outra vertente , onde há batatas em abundância ; mas , se as duas tr\n",
      " as duas tribos dividirem em paz as batatas do campo , não chegam a nutrir - se\n",
      "dio ou compaixão ; ao vencedor , as batatas .  Mas a opinião do exterminado ? \n",
      "eu a conclusão : \" Ao vencedor , as batatas !\" Ouviu distintamente a voz roufen\n",
      "murou baixinho :  Ao vencedor , as batatas ! Tão simples ! tão claro ! Olhou p\n",
      "um vencedor . Não havia dúvida ; as batatas fizeram - se para a tribo que elimi\n",
      " fim de transpor a montanha e ir às batatas do outro lado . Justamente o seu ca\n",
      " Barbacena para arrancar e comer as batatas da capital . Cumpria - lhe ser duro\n",
      "ços exclamando :  Ao vencedor , as batatas ! Gostava da fórmula , achava - a e\n",
      "de verdadeira e profunda . Ideou as batatas em suas várias formas , classificou\n",
      " , com este lema : AO VENCEDOR , AS BATATAS . Esqueceu o projeto do sinete ; ma\n",
      "or alguns dias :  Ao vencedor , as batatas ! Não a compreenderia antes do test\n",
      "clamou parando :  Ao vencedor , as batatas ! Tinha - as esquecido de todo , a \n",
      "CAPÍTULO CXCVIII  Ao vencedor , as batatas ! exclamou Rubião quando deu com os\n",
      "espiava da rua .  Ao vencedor , as batatas !  bradava Rubião aos curiosos . A\n",
      " estou imperador ! Ao vencedor , as batatas ! Esta palavra obscura e incompleta\n",
      "ões de francos .  Ao vencedor , as batatas ! concluiu rindo . CAPÍTULO CC Pouc\n"
     ]
    }
   ],
   "source": [
    "quincas.concordance('batatas')"
   ]
  },
  {
   "cell_type": "code",
   "execution_count": 8,
   "metadata": {},
   "outputs": [
    {
     "name": "stdout",
     "output_type": "stream",
     "text": [
      "Palavras mais frequentes: \n"
     ]
    },
    {
     "data": {
      "text/plain": [
       "[(',', 8436),\n",
       " ('.', 4480),\n",
       " ('que', 2720),\n",
       " ('a', 2564),\n",
       " ('de', 2346),\n",
       " ('o', 2249),\n",
       " ('-', 1980),\n",
       " ('e', 1947),\n",
       " (';', 1608),\n",
       " ('\\x97', 1413)]"
      ]
     },
     "execution_count": 8,
     "metadata": {},
     "output_type": "execute_result"
    }
   ],
   "source": [
    "from nltk.probability import FreqDist\n",
    "freq = FreqDist(quincas)\n",
    "print(\"Palavras mais frequentes: \")\n",
    "freq.most_common(10)"
   ]
  },
  {
   "cell_type": "code",
   "execution_count": 9,
   "metadata": {},
   "outputs": [
    {
     "name": "stdout",
     "output_type": "stream",
     "text": [
      "['a', 'à', 'ao', 'aos', 'aquela', 'aquelas', 'aquele', 'aqueles', 'aquilo', 'as', 'às', 'até', 'com', 'como', 'da', 'das', 'de', 'dela', 'delas', 'dele', 'deles', 'depois', 'do', 'dos', 'e', 'é', 'ela', 'elas', 'ele', 'eles', 'em', 'entre', 'era', 'eram', 'éramos', 'essa', 'essas', 'esse', 'esses', 'esta', 'está', 'estamos', 'estão', 'estar', 'estas', 'estava', 'estavam', 'estávamos', 'este', 'esteja', 'estejam', 'estejamos', 'estes', 'esteve', 'estive', 'estivemos', 'estiver', 'estivera', 'estiveram', 'estivéramos', 'estiverem', 'estivermos', 'estivesse', 'estivessem', 'estivéssemos', 'estou', 'eu', 'foi', 'fomos', 'for', 'fora', 'foram', 'fôramos', 'forem', 'formos', 'fosse', 'fossem', 'fôssemos', 'fui', 'há', 'haja', 'hajam', 'hajamos', 'hão', 'havemos', 'haver', 'hei', 'houve', 'houvemos', 'houver', 'houvera', 'houverá', 'houveram', 'houvéramos', 'houverão', 'houverei', 'houverem', 'houveremos', 'houveria', 'houveriam', 'houveríamos', 'houvermos', 'houvesse', 'houvessem', 'houvéssemos', 'isso', 'isto', 'já', 'lhe', 'lhes', 'mais', 'mas', 'me', 'mesmo', 'meu', 'meus', 'minha', 'minhas', 'muito', 'na', 'não', 'nas', 'nem', 'no', 'nos', 'nós', 'nossa', 'nossas', 'nosso', 'nossos', 'num', 'numa', 'o', 'os', 'ou', 'para', 'pela', 'pelas', 'pelo', 'pelos', 'por', 'qual', 'quando', 'que', 'quem', 'são', 'se', 'seja', 'sejam', 'sejamos', 'sem', 'ser', 'será', 'serão', 'serei', 'seremos', 'seria', 'seriam', 'seríamos', 'seu', 'seus', 'só', 'somos', 'sou', 'sua', 'suas', 'também', 'te', 'tem', 'tém', 'temos', 'tenha', 'tenham', 'tenhamos', 'tenho', 'terá', 'terão', 'terei', 'teremos', 'teria', 'teriam', 'teríamos', 'teu', 'teus', 'teve', 'tinha', 'tinham', 'tínhamos', 'tive', 'tivemos', 'tiver', 'tivera', 'tiveram', 'tivéramos', 'tiverem', 'tivermos', 'tivesse', 'tivessem', 'tivéssemos', 'tu', 'tua', 'tuas', 'um', 'uma', 'você', 'vocês', 'vos']\n"
     ]
    }
   ],
   "source": [
    "from nltk.corpus import stopwords\n",
    "print(stopwords.words('portuguese'))"
   ]
  },
  {
   "cell_type": "code",
   "execution_count": 10,
   "metadata": {},
   "outputs": [
    {
     "name": "stdout",
     "output_type": "stream",
     "text": [
      "65507\n"
     ]
    }
   ],
   "source": [
    "quincas_limpo = quincas[:]\n",
    "for token in quincas:\n",
    "    if token in stopwords.words('portuguese'):\n",
    "        quincas_limpo.remove(token)\n",
    "\n",
    "print(len(quincas_limpo))"
   ]
  },
  {
   "cell_type": "code",
   "execution_count": 11,
   "metadata": {},
   "outputs": [
    {
     "name": "stdout",
     "output_type": "stream",
     "text": [
      "Palavras mais frequentes após a limpeza\n"
     ]
    },
    {
     "data": {
      "text/plain": [
       "[(',', 8436),\n",
       " ('.', 4480),\n",
       " ('-', 1980),\n",
       " (';', 1608),\n",
       " ('\\x97', 1413),\n",
       " ('Rubião', 696),\n",
       " ('?', 641),\n",
       " ('...', 423),\n",
       " ('!', 381),\n",
       " ('Não', 363)]"
      ]
     },
     "execution_count": 11,
     "metadata": {},
     "output_type": "execute_result"
    }
   ],
   "source": [
    "freq = FreqDist(quincas_limpo)\n",
    "print(\"Palavras mais frequentes após a limpeza\")\n",
    "freq.most_common(10)"
   ]
  },
  {
   "cell_type": "code",
   "execution_count": 12,
   "metadata": {},
   "outputs": [
    {
     "name": "stdout",
     "output_type": "stream",
     "text": [
      "45914\n"
     ]
    }
   ],
   "source": [
    "sinais = ['!', '?', ',', ':', ';', '-', '...', '.', '\\x97']\n",
    "quincas_limpo = quincas[:]\n",
    "for token in quincas:\n",
    "    if token in stopwords.words('portuguese') or token in sinais:\n",
    "        quincas_limpo.remove(token)\n",
    "\n",
    "print(len(quincas_limpo))"
   ]
  },
  {
   "cell_type": "code",
   "execution_count": 13,
   "metadata": {},
   "outputs": [
    {
     "name": "stdout",
     "output_type": "stream",
     "text": [
      "Palavras mais frequentes após a limpeza\n"
     ]
    },
    {
     "data": {
      "text/plain": [
       "[('Rubião', 696),\n",
       " ('Não', 363),\n",
       " ('Sofia', 345),\n",
       " ('Maria', 226),\n",
       " ('A', 217),\n",
       " ('casa', 210),\n",
       " ('lo', 204),\n",
       " ('CAPÍTULO', 201),\n",
       " ('olhos', 187),\n",
       " ('disse', 184)]"
      ]
     },
     "execution_count": 13,
     "metadata": {},
     "output_type": "execute_result"
    }
   ],
   "source": [
    "freq1 = FreqDist(quincas_limpo)\n",
    "print(\"Palavras mais frequentes após a limpeza\")\n",
    "freq1.most_common(10)"
   ]
  }
 ],
 "metadata": {
  "kernelspec": {
   "display_name": "venv",
   "language": "python",
   "name": "python3"
  },
  "language_info": {
   "codemirror_mode": {
    "name": "ipython",
    "version": 3
   },
   "file_extension": ".py",
   "mimetype": "text/x-python",
   "name": "python",
   "nbconvert_exporter": "python",
   "pygments_lexer": "ipython3",
   "version": "3.12.3"
  }
 },
 "nbformat": 4,
 "nbformat_minor": 2
}
